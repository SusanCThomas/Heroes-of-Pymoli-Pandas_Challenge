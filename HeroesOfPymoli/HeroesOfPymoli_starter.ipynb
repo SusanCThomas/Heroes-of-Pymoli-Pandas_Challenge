{
 "cells": [
  {
   "cell_type": "markdown",
   "metadata": {},
   "source": [
    "# Import Dependencies "
   ]
  },
  {
   "cell_type": "code",
   "execution_count": 1,
   "metadata": {},
   "outputs": [],
   "source": [
    "# Dependencies and Setup\n",
    "import pandas as pd"
   ]
  },
  {
   "cell_type": "markdown",
   "metadata": {},
   "source": [
    "# Data Retrieval Logic"
   ]
  },
  {
   "cell_type": "code",
   "execution_count": 2,
   "metadata": {},
   "outputs": [
    {
     "data": {
      "text/html": [
       "<div>\n",
       "<style scoped>\n",
       "    .dataframe tbody tr th:only-of-type {\n",
       "        vertical-align: middle;\n",
       "    }\n",
       "\n",
       "    .dataframe tbody tr th {\n",
       "        vertical-align: top;\n",
       "    }\n",
       "\n",
       "    .dataframe thead th {\n",
       "        text-align: right;\n",
       "    }\n",
       "</style>\n",
       "<table border=\"1\" class=\"dataframe\">\n",
       "  <thead>\n",
       "    <tr style=\"text-align: right;\">\n",
       "      <th></th>\n",
       "      <th>Purchase ID</th>\n",
       "      <th>SN</th>\n",
       "      <th>Age</th>\n",
       "      <th>Gender</th>\n",
       "      <th>Item ID</th>\n",
       "      <th>Item Name</th>\n",
       "      <th>Price</th>\n",
       "    </tr>\n",
       "  </thead>\n",
       "  <tbody>\n",
       "    <tr>\n",
       "      <th>0</th>\n",
       "      <td>0</td>\n",
       "      <td>Lisim78</td>\n",
       "      <td>20</td>\n",
       "      <td>Male</td>\n",
       "      <td>108</td>\n",
       "      <td>Extraction, Quickblade Of Trembling Hands</td>\n",
       "      <td>3.53</td>\n",
       "    </tr>\n",
       "    <tr>\n",
       "      <th>1</th>\n",
       "      <td>1</td>\n",
       "      <td>Lisovynya38</td>\n",
       "      <td>40</td>\n",
       "      <td>Male</td>\n",
       "      <td>143</td>\n",
       "      <td>Frenzied Scimitar</td>\n",
       "      <td>1.56</td>\n",
       "    </tr>\n",
       "    <tr>\n",
       "      <th>2</th>\n",
       "      <td>2</td>\n",
       "      <td>Ithergue48</td>\n",
       "      <td>24</td>\n",
       "      <td>Male</td>\n",
       "      <td>92</td>\n",
       "      <td>Final Critic</td>\n",
       "      <td>4.88</td>\n",
       "    </tr>\n",
       "    <tr>\n",
       "      <th>3</th>\n",
       "      <td>3</td>\n",
       "      <td>Chamassasya86</td>\n",
       "      <td>24</td>\n",
       "      <td>Male</td>\n",
       "      <td>100</td>\n",
       "      <td>Blindscythe</td>\n",
       "      <td>3.27</td>\n",
       "    </tr>\n",
       "    <tr>\n",
       "      <th>4</th>\n",
       "      <td>4</td>\n",
       "      <td>Iskosia90</td>\n",
       "      <td>23</td>\n",
       "      <td>Male</td>\n",
       "      <td>131</td>\n",
       "      <td>Fury</td>\n",
       "      <td>1.44</td>\n",
       "    </tr>\n",
       "  </tbody>\n",
       "</table>\n",
       "</div>"
      ],
      "text/plain": [
       "   Purchase ID             SN  Age Gender  Item ID  \\\n",
       "0            0        Lisim78   20   Male      108   \n",
       "1            1    Lisovynya38   40   Male      143   \n",
       "2            2     Ithergue48   24   Male       92   \n",
       "3            3  Chamassasya86   24   Male      100   \n",
       "4            4      Iskosia90   23   Male      131   \n",
       "\n",
       "                                   Item Name  Price  \n",
       "0  Extraction, Quickblade Of Trembling Hands   3.53  \n",
       "1                          Frenzied Scimitar   1.56  \n",
       "2                               Final Critic   4.88  \n",
       "3                                Blindscythe   3.27  \n",
       "4                                       Fury   1.44  "
      ]
     },
     "execution_count": 2,
     "metadata": {},
     "output_type": "execute_result"
    }
   ],
   "source": [
    "# File to Load\n",
    "file_to_load = \"Resources/purchase_data.csv\"\n",
    "\n",
    "# Read Purchasing File and store into Pandas data frame\n",
    "heroes_of_pymoli_df = pd.read_csv(file_to_load)\n",
    "heroes_of_pymoli_df.head()"
   ]
  },
  {
   "cell_type": "markdown",
   "metadata": {},
   "source": [
    "## Player Count"
   ]
  },
  {
   "cell_type": "markdown",
   "metadata": {},
   "source": [
    "* Calculate the total number of players\n",
    "* Display the total number of players"
   ]
  },
  {
   "cell_type": "code",
   "execution_count": 3,
   "metadata": {},
   "outputs": [
    {
     "data": {
      "text/html": [
       "<div>\n",
       "<style scoped>\n",
       "    .dataframe tbody tr th:only-of-type {\n",
       "        vertical-align: middle;\n",
       "    }\n",
       "\n",
       "    .dataframe tbody tr th {\n",
       "        vertical-align: top;\n",
       "    }\n",
       "\n",
       "    .dataframe thead th {\n",
       "        text-align: right;\n",
       "    }\n",
       "</style>\n",
       "<table border=\"1\" class=\"dataframe\">\n",
       "  <thead>\n",
       "    <tr style=\"text-align: right;\">\n",
       "      <th></th>\n",
       "      <th>Total Players</th>\n",
       "    </tr>\n",
       "  </thead>\n",
       "  <tbody>\n",
       "    <tr>\n",
       "      <th>0</th>\n",
       "      <td>576</td>\n",
       "    </tr>\n",
       "  </tbody>\n",
       "</table>\n",
       "</div>"
      ],
      "text/plain": [
       "   Total Players\n",
       "0            576"
      ]
     },
     "execution_count": 3,
     "metadata": {},
     "output_type": "execute_result"
    }
   ],
   "source": [
    "# Calculate the total number of players\n",
    "player_amounts = len(heroes_of_pymoli_df['SN'].value_counts())\n",
    "\n",
    "# Create a dataframe to display the results\n",
    "Total_Players = pd.DataFrame({\"Total Players\": [player_amounts]})\n",
    "Total_Players"
   ]
  },
  {
   "cell_type": "markdown",
   "metadata": {},
   "source": [
    "## Purchasing Analysis (Total)"
   ]
  },
  {
   "cell_type": "markdown",
   "metadata": {},
   "source": [
    "* Calculate Number of Unique Items\n",
    "* Calculate the Average Purchase Price\n",
    "* Calculate the Total Number of Purchases\n",
    "* Calculate the Total Revenue\n",
    "* Create, clean and display a summary data frame for the results\n"
   ]
  },
  {
   "cell_type": "code",
   "execution_count": 14,
   "metadata": {},
   "outputs": [
    {
     "data": {
      "text/html": [
       "<div>\n",
       "<style scoped>\n",
       "    .dataframe tbody tr th:only-of-type {\n",
       "        vertical-align: middle;\n",
       "    }\n",
       "\n",
       "    .dataframe tbody tr th {\n",
       "        vertical-align: top;\n",
       "    }\n",
       "\n",
       "    .dataframe thead th {\n",
       "        text-align: right;\n",
       "    }\n",
       "</style>\n",
       "<table border=\"1\" class=\"dataframe\">\n",
       "  <thead>\n",
       "    <tr style=\"text-align: right;\">\n",
       "      <th></th>\n",
       "      <th>Number of Unique Items</th>\n",
       "      <th>Average Price</th>\n",
       "      <th>Number of Purchases</th>\n",
       "      <th>Total Revenue</th>\n",
       "    </tr>\n",
       "  </thead>\n",
       "  <tbody>\n",
       "    <tr>\n",
       "      <th>0</th>\n",
       "      <td>179</td>\n",
       "      <td>$3.05</td>\n",
       "      <td>780</td>\n",
       "      <td>$2,379.77</td>\n",
       "    </tr>\n",
       "  </tbody>\n",
       "</table>\n",
       "</div>"
      ],
      "text/plain": [
       "   Number of Unique Items Average Price  Number of Purchases Total Revenue\n",
       "0                     179         $3.05                  780     $2,379.77"
      ]
     },
     "execution_count": 14,
     "metadata": {},
     "output_type": "execute_result"
    }
   ],
   "source": [
    "# Calculate the number of unique items, average purchase price, total number of purchases, and total revenue\n",
    "unique_items = len(heroes_of_pymoli_df['Item ID'].value_counts())\n",
    "average_price = heroes_of_pymoli_df['Price'].mean()\n",
    "number_of_purchases = heroes_of_pymoli_df['SN'].count()\n",
    "total_revenue = heroes_of_pymoli_df['Price'].sum()\n",
    "\n",
    "# Create a dataframe to display the results\n",
    "purchasing_analysis_df = pd.DataFrame({'Number of Unique Items': [unique_items],\n",
    "                                      'Average Price': [average_price],\n",
    "                                      'Number of Purchases': [number_of_purchases],\n",
    "                                      'Total Revenue': [total_revenue]})\n",
    "# Format the results as currency \n",
    "purchasing_analysis_df['Average Price'] = purchasing_analysis_df['Average Price'].map('${:,.2f}'.format)\n",
    "purchasing_analysis_df['Total Revenue'] = purchasing_analysis_df['Total Revenue'].map('${:,.2f}'.format)\n",
    "\n",
    "purchasing_analysis_df\n"
   ]
  },
  {
   "cell_type": "markdown",
   "metadata": {},
   "source": [
    "## Gender Demographics"
   ]
  },
  {
   "cell_type": "markdown",
   "metadata": {},
   "source": [
    "* Group the data by Gender\n",
    "* Calculate the Percentage and Count of Male Players\n",
    "* Calculate the Percentage and Count of Female Players\n",
    "* Calculate the Percentage and Count of Other / Non-Disclosed\n",
    "* Create, clean and display a summary data frame for the results "
   ]
  },
  {
   "cell_type": "code",
   "execution_count": 5,
   "metadata": {},
   "outputs": [
    {
     "data": {
      "text/html": [
       "<style  type=\"text/css\" >\n",
       "</style><table id=\"T_34126f94_171b_11eb_acdf_820f1136b280\" ><thead>    <tr>        <th class=\"blank level0\" ></th>        <th class=\"col_heading level0 col0\" >Percentage of Players</th>        <th class=\"col_heading level0 col1\" >Total Count</th>    </tr>    <tr>        <th class=\"index_name level0\" >Gender</th>        <th class=\"blank\" ></th>        <th class=\"blank\" ></th>    </tr></thead><tbody>\n",
       "                <tr>\n",
       "                        <th id=\"T_34126f94_171b_11eb_acdf_820f1136b280level0_row0\" class=\"row_heading level0 row0\" >Male</th>\n",
       "                        <td id=\"T_34126f94_171b_11eb_acdf_820f1136b280row0_col0\" class=\"data row0 col0\" >84.03%</td>\n",
       "                        <td id=\"T_34126f94_171b_11eb_acdf_820f1136b280row0_col1\" class=\"data row0 col1\" >484</td>\n",
       "            </tr>\n",
       "            <tr>\n",
       "                        <th id=\"T_34126f94_171b_11eb_acdf_820f1136b280level0_row1\" class=\"row_heading level0 row1\" >Female</th>\n",
       "                        <td id=\"T_34126f94_171b_11eb_acdf_820f1136b280row1_col0\" class=\"data row1 col0\" >14.06%</td>\n",
       "                        <td id=\"T_34126f94_171b_11eb_acdf_820f1136b280row1_col1\" class=\"data row1 col1\" >81</td>\n",
       "            </tr>\n",
       "            <tr>\n",
       "                        <th id=\"T_34126f94_171b_11eb_acdf_820f1136b280level0_row2\" class=\"row_heading level0 row2\" >Other / Non-Disclosed</th>\n",
       "                        <td id=\"T_34126f94_171b_11eb_acdf_820f1136b280row2_col0\" class=\"data row2 col0\" >1.91%</td>\n",
       "                        <td id=\"T_34126f94_171b_11eb_acdf_820f1136b280row2_col1\" class=\"data row2 col1\" >11</td>\n",
       "            </tr>\n",
       "    </tbody></table>"
      ],
      "text/plain": [
       "<pandas.io.formats.style.Styler at 0x7fef342f3ee0>"
      ]
     },
     "execution_count": 5,
     "metadata": {},
     "output_type": "execute_result"
    }
   ],
   "source": [
    "# Group the Heroes of Pymoli data by gender\n",
    "gender_group = heroes_of_pymoli_df.groupby(['Gender'])\n",
    "\n",
    "# Count the total number of unique items(SN) by gender\n",
    "gender_totals = gender_group.nunique()['SN']\n",
    "gender_totals\n",
    "\n",
    "count_gender = gender_totals.sum()\n",
    "count_gender\n",
    "\n",
    "# Calculate the percentage of genders\n",
    "percentage_of_players = gender_totals / count_gender * 100\n",
    "percentage_of_players\n",
    "\n",
    "# Create a dataframe to display results \n",
    "gender_demographics = pd.DataFrame({'Percentage of Players': percentage_of_players,\n",
    "                                    'Total Count': gender_totals})\n",
    "gender_demographics.sort_values(['Total Count'],\n",
    "                               ascending = False).style.format({'Percentage of Players':'{:.2f}%'})"
   ]
  },
  {
   "cell_type": "markdown",
   "metadata": {},
   "source": [
    "\n",
    "## Purchasing Analysis (Gender)"
   ]
  },
  {
   "cell_type": "markdown",
   "metadata": {},
   "source": [
    "* Calculate the Purchase Count\n",
    "* Calculate the Average Purchase Price\n",
    "* Calculate the Total Purchase Value\n",
    "* Calculate the Average Purchase Total per Person by Gender\n",
    "* Create, clean and display a summary data frame for the results"
   ]
  },
  {
   "cell_type": "code",
   "execution_count": 6,
   "metadata": {},
   "outputs": [
    {
     "data": {
      "text/html": [
       "<style  type=\"text/css\" >\n",
       "</style><table id=\"T_341bec4a_171b_11eb_acdf_820f1136b280\" ><thead>    <tr>        <th class=\"blank level0\" ></th>        <th class=\"col_heading level0 col0\" >Purchase Count</th>        <th class=\"col_heading level0 col1\" >Average Purchase Price</th>        <th class=\"col_heading level0 col2\" >Total Purchase Value</th>        <th class=\"col_heading level0 col3\" >Average Purchase Total Per Person</th>    </tr>    <tr>        <th class=\"index_name level0\" >Gender</th>        <th class=\"blank\" ></th>        <th class=\"blank\" ></th>        <th class=\"blank\" ></th>        <th class=\"blank\" ></th>    </tr></thead><tbody>\n",
       "                <tr>\n",
       "                        <th id=\"T_341bec4a_171b_11eb_acdf_820f1136b280level0_row0\" class=\"row_heading level0 row0\" >Female</th>\n",
       "                        <td id=\"T_341bec4a_171b_11eb_acdf_820f1136b280row0_col0\" class=\"data row0 col0\" >113</td>\n",
       "                        <td id=\"T_341bec4a_171b_11eb_acdf_820f1136b280row0_col1\" class=\"data row0 col1\" >$3.20</td>\n",
       "                        <td id=\"T_341bec4a_171b_11eb_acdf_820f1136b280row0_col2\" class=\"data row0 col2\" >$361.94</td>\n",
       "                        <td id=\"T_341bec4a_171b_11eb_acdf_820f1136b280row0_col3\" class=\"data row0 col3\" >$4.47</td>\n",
       "            </tr>\n",
       "            <tr>\n",
       "                        <th id=\"T_341bec4a_171b_11eb_acdf_820f1136b280level0_row1\" class=\"row_heading level0 row1\" >Male</th>\n",
       "                        <td id=\"T_341bec4a_171b_11eb_acdf_820f1136b280row1_col0\" class=\"data row1 col0\" >652</td>\n",
       "                        <td id=\"T_341bec4a_171b_11eb_acdf_820f1136b280row1_col1\" class=\"data row1 col1\" >$3.02</td>\n",
       "                        <td id=\"T_341bec4a_171b_11eb_acdf_820f1136b280row1_col2\" class=\"data row1 col2\" >$1,967.64</td>\n",
       "                        <td id=\"T_341bec4a_171b_11eb_acdf_820f1136b280row1_col3\" class=\"data row1 col3\" >$4.07</td>\n",
       "            </tr>\n",
       "            <tr>\n",
       "                        <th id=\"T_341bec4a_171b_11eb_acdf_820f1136b280level0_row2\" class=\"row_heading level0 row2\" >Other / Non-Disclosed</th>\n",
       "                        <td id=\"T_341bec4a_171b_11eb_acdf_820f1136b280row2_col0\" class=\"data row2 col0\" >15</td>\n",
       "                        <td id=\"T_341bec4a_171b_11eb_acdf_820f1136b280row2_col1\" class=\"data row2 col1\" >$3.35</td>\n",
       "                        <td id=\"T_341bec4a_171b_11eb_acdf_820f1136b280row2_col2\" class=\"data row2 col2\" >$50.19</td>\n",
       "                        <td id=\"T_341bec4a_171b_11eb_acdf_820f1136b280row2_col3\" class=\"data row2 col3\" >$4.56</td>\n",
       "            </tr>\n",
       "    </tbody></table>"
      ],
      "text/plain": [
       "<pandas.io.formats.style.Styler at 0x7fef342f3670>"
      ]
     },
     "execution_count": 6,
     "metadata": {},
     "output_type": "execute_result"
    }
   ],
   "source": [
    "# Count the total purchased per gender\n",
    "purchase_count = gender_group['Purchase ID'].count()\n",
    "\n",
    "# Calculate the average purchase price per gender\n",
    "average_purchase_price = gender_group['Price'].mean()\n",
    "\n",
    "# Calculate the total purchase value per gender\n",
    "total_purchase_per_gender = gender_group['Price'].sum()\n",
    "\n",
    "# Calculate the average purchase total per person by gender\n",
    "average_purchase_per_person = total_purchase_per_gender / gender_totals\n",
    "\n",
    "# Create a dataframe to display the results \n",
    "gender_statistics_df = pd.DataFrame({'Purchase Count': purchase_count,\n",
    "                                     'Average Purchase Price': average_purchase_price,\n",
    "                                     'Total Purchase Value': total_purchase_per_gender,\n",
    "                                     'Average Purchase Total Per Person': average_purchase_per_person\n",
    "                        })\n",
    "\n",
    "# Format the results as currency\n",
    "gender_statistics_df.style.format({'Average Purchase Price':'${:,.2f}',\n",
    "                                   'Total Purchase Value':'${:,.2f}',\n",
    "                                   'Average Purchase Total Per Person':'${:,.2f}'\n",
    "                                  })"
   ]
  },
  {
   "cell_type": "markdown",
   "metadata": {},
   "source": [
    "## Age Demographics"
   ]
  },
  {
   "cell_type": "markdown",
   "metadata": {},
   "source": [
    "* Establish bins for ages\n",
    "* Categorize the existing players using the age bins\n",
    "* Calculate the numbers and percentages by age group\n",
    "* Create, clean and display a summary data frame for the results"
   ]
  },
  {
   "cell_type": "code",
   "execution_count": 10,
   "metadata": {},
   "outputs": [
    {
     "data": {
      "text/html": [
       "<style  type=\"text/css\" >\n",
       "</style><table id=\"T_b3a92a58_171c_11eb_acdf_820f1136b280\" ><thead>    <tr>        <th class=\"blank level0\" ></th>        <th class=\"col_heading level0 col0\" >Percentage of Players</th>        <th class=\"col_heading level0 col1\" >Total Players</th>    </tr>    <tr>        <th class=\"index_name level0\" >Age Group</th>        <th class=\"blank\" ></th>        <th class=\"blank\" ></th>    </tr></thead><tbody>\n",
       "                <tr>\n",
       "                        <th id=\"T_b3a92a58_171c_11eb_acdf_820f1136b280level0_row0\" class=\"row_heading level0 row0\" ><10</th>\n",
       "                        <td id=\"T_b3a92a58_171c_11eb_acdf_820f1136b280row0_col0\" class=\"data row0 col0\" >2.95%</td>\n",
       "                        <td id=\"T_b3a92a58_171c_11eb_acdf_820f1136b280row0_col1\" class=\"data row0 col1\" >17</td>\n",
       "            </tr>\n",
       "            <tr>\n",
       "                        <th id=\"T_b3a92a58_171c_11eb_acdf_820f1136b280level0_row1\" class=\"row_heading level0 row1\" >10-14</th>\n",
       "                        <td id=\"T_b3a92a58_171c_11eb_acdf_820f1136b280row1_col0\" class=\"data row1 col0\" >3.82%</td>\n",
       "                        <td id=\"T_b3a92a58_171c_11eb_acdf_820f1136b280row1_col1\" class=\"data row1 col1\" >22</td>\n",
       "            </tr>\n",
       "            <tr>\n",
       "                        <th id=\"T_b3a92a58_171c_11eb_acdf_820f1136b280level0_row2\" class=\"row_heading level0 row2\" >15-19</th>\n",
       "                        <td id=\"T_b3a92a58_171c_11eb_acdf_820f1136b280row2_col0\" class=\"data row2 col0\" >18.58%</td>\n",
       "                        <td id=\"T_b3a92a58_171c_11eb_acdf_820f1136b280row2_col1\" class=\"data row2 col1\" >107</td>\n",
       "            </tr>\n",
       "            <tr>\n",
       "                        <th id=\"T_b3a92a58_171c_11eb_acdf_820f1136b280level0_row3\" class=\"row_heading level0 row3\" >20-24</th>\n",
       "                        <td id=\"T_b3a92a58_171c_11eb_acdf_820f1136b280row3_col0\" class=\"data row3 col0\" >44.79%</td>\n",
       "                        <td id=\"T_b3a92a58_171c_11eb_acdf_820f1136b280row3_col1\" class=\"data row3 col1\" >258</td>\n",
       "            </tr>\n",
       "            <tr>\n",
       "                        <th id=\"T_b3a92a58_171c_11eb_acdf_820f1136b280level0_row4\" class=\"row_heading level0 row4\" >25-29</th>\n",
       "                        <td id=\"T_b3a92a58_171c_11eb_acdf_820f1136b280row4_col0\" class=\"data row4 col0\" >13.37%</td>\n",
       "                        <td id=\"T_b3a92a58_171c_11eb_acdf_820f1136b280row4_col1\" class=\"data row4 col1\" >77</td>\n",
       "            </tr>\n",
       "            <tr>\n",
       "                        <th id=\"T_b3a92a58_171c_11eb_acdf_820f1136b280level0_row5\" class=\"row_heading level0 row5\" >30-34</th>\n",
       "                        <td id=\"T_b3a92a58_171c_11eb_acdf_820f1136b280row5_col0\" class=\"data row5 col0\" >9.03%</td>\n",
       "                        <td id=\"T_b3a92a58_171c_11eb_acdf_820f1136b280row5_col1\" class=\"data row5 col1\" >52</td>\n",
       "            </tr>\n",
       "            <tr>\n",
       "                        <th id=\"T_b3a92a58_171c_11eb_acdf_820f1136b280level0_row6\" class=\"row_heading level0 row6\" >35-39</th>\n",
       "                        <td id=\"T_b3a92a58_171c_11eb_acdf_820f1136b280row6_col0\" class=\"data row6 col0\" >5.38%</td>\n",
       "                        <td id=\"T_b3a92a58_171c_11eb_acdf_820f1136b280row6_col1\" class=\"data row6 col1\" >31</td>\n",
       "            </tr>\n",
       "            <tr>\n",
       "                        <th id=\"T_b3a92a58_171c_11eb_acdf_820f1136b280level0_row7\" class=\"row_heading level0 row7\" >40+</th>\n",
       "                        <td id=\"T_b3a92a58_171c_11eb_acdf_820f1136b280row7_col0\" class=\"data row7 col0\" >2.08%</td>\n",
       "                        <td id=\"T_b3a92a58_171c_11eb_acdf_820f1136b280row7_col1\" class=\"data row7 col1\" >12</td>\n",
       "            </tr>\n",
       "    </tbody></table>"
      ],
      "text/plain": [
       "<pandas.io.formats.style.Styler at 0x7fef332ce400>"
      ]
     },
     "execution_count": 10,
     "metadata": {},
     "output_type": "execute_result"
    }
   ],
   "source": [
    "# Age Min and Max\n",
    "heroes_of_pymoli_df['Age'].min()\n",
    "heroes_of_pymoli_df['Age'].max()\n",
    "\n",
    "# Establish bins for ages\n",
    "age_bins = [0,9,14,19,24,29,34,39,49]\n",
    "\n",
    "# Categorize existing players using age bins \n",
    "age_group_names = ['<10', '10-14', '15-19', '20-24', '25-29', '30-34', '35-39', '40+']\n",
    "heroes_of_pymoli_df['Age Group'] = pd.cut(heroes_of_pymoli_df['Age'], age_bins, labels = age_group_names)\n",
    "heroes_of_pymoli_df\n",
    "\n",
    "# Display dataframe with age group, grouping\n",
    "age_group = heroes_of_pymoli_df.groupby('Age Group')\n",
    "\n",
    "# Calculate total players by age group\n",
    "age_group_total = age_group['SN'].nunique()\n",
    "\n",
    "count_age = age_group_total.sum()\n",
    "\n",
    "# Calculate the percentages per age group\n",
    "percentage_by_age = age_group_total / count_age * 100\n",
    "\n",
    "# Create a dataframe to display the results \n",
    "gender_statistics_df = pd.DataFrame({'Percentage of Players': percentage_by_age,\n",
    "                                     'Total Players': age_group_total\n",
    "                                    })\n",
    "\n",
    "# Format the results as currency\n",
    "gender_statistics_df.style.format({'Percentage of Players': '{:.2f}%'})"
   ]
  },
  {
   "cell_type": "markdown",
   "metadata": {},
   "source": [
    "## Purchasing Analysis (Age)"
   ]
  },
  {
   "cell_type": "markdown",
   "metadata": {},
   "source": [
    "* Calculate the Purchase Count\n",
    "* Calculate the Average Purchase Price\n",
    "* Calculate the Total Purchase Value\n",
    "* Calculate the Average Purchase Total per Person by Gender\n",
    "* Create, clean and display a summary data frame for the results"
   ]
  },
  {
   "cell_type": "code",
   "execution_count": 11,
   "metadata": {},
   "outputs": [
    {
     "data": {
      "text/html": [
       "<style  type=\"text/css\" >\n",
       "</style><table id=\"T_b9a05d00_171c_11eb_acdf_820f1136b280\" ><thead>    <tr>        <th class=\"blank level0\" ></th>        <th class=\"col_heading level0 col0\" >Purchase Count</th>        <th class=\"col_heading level0 col1\" >Average Purchase Price</th>        <th class=\"col_heading level0 col2\" >Total Purchase Value</th>        <th class=\"col_heading level0 col3\" >Average Purchase Total Per Person</th>    </tr>    <tr>        <th class=\"index_name level0\" >Age Group</th>        <th class=\"blank\" ></th>        <th class=\"blank\" ></th>        <th class=\"blank\" ></th>        <th class=\"blank\" ></th>    </tr></thead><tbody>\n",
       "                <tr>\n",
       "                        <th id=\"T_b9a05d00_171c_11eb_acdf_820f1136b280level0_row0\" class=\"row_heading level0 row0\" ><10</th>\n",
       "                        <td id=\"T_b9a05d00_171c_11eb_acdf_820f1136b280row0_col0\" class=\"data row0 col0\" >23</td>\n",
       "                        <td id=\"T_b9a05d00_171c_11eb_acdf_820f1136b280row0_col1\" class=\"data row0 col1\" >$3.35</td>\n",
       "                        <td id=\"T_b9a05d00_171c_11eb_acdf_820f1136b280row0_col2\" class=\"data row0 col2\" >$77.13</td>\n",
       "                        <td id=\"T_b9a05d00_171c_11eb_acdf_820f1136b280row0_col3\" class=\"data row0 col3\" >$4.54</td>\n",
       "            </tr>\n",
       "            <tr>\n",
       "                        <th id=\"T_b9a05d00_171c_11eb_acdf_820f1136b280level0_row1\" class=\"row_heading level0 row1\" >10-14</th>\n",
       "                        <td id=\"T_b9a05d00_171c_11eb_acdf_820f1136b280row1_col0\" class=\"data row1 col0\" >28</td>\n",
       "                        <td id=\"T_b9a05d00_171c_11eb_acdf_820f1136b280row1_col1\" class=\"data row1 col1\" >$2.96</td>\n",
       "                        <td id=\"T_b9a05d00_171c_11eb_acdf_820f1136b280row1_col2\" class=\"data row1 col2\" >$82.78</td>\n",
       "                        <td id=\"T_b9a05d00_171c_11eb_acdf_820f1136b280row1_col3\" class=\"data row1 col3\" >$3.76</td>\n",
       "            </tr>\n",
       "            <tr>\n",
       "                        <th id=\"T_b9a05d00_171c_11eb_acdf_820f1136b280level0_row2\" class=\"row_heading level0 row2\" >15-19</th>\n",
       "                        <td id=\"T_b9a05d00_171c_11eb_acdf_820f1136b280row2_col0\" class=\"data row2 col0\" >136</td>\n",
       "                        <td id=\"T_b9a05d00_171c_11eb_acdf_820f1136b280row2_col1\" class=\"data row2 col1\" >$3.04</td>\n",
       "                        <td id=\"T_b9a05d00_171c_11eb_acdf_820f1136b280row2_col2\" class=\"data row2 col2\" >$412.89</td>\n",
       "                        <td id=\"T_b9a05d00_171c_11eb_acdf_820f1136b280row2_col3\" class=\"data row2 col3\" >$3.86</td>\n",
       "            </tr>\n",
       "            <tr>\n",
       "                        <th id=\"T_b9a05d00_171c_11eb_acdf_820f1136b280level0_row3\" class=\"row_heading level0 row3\" >20-24</th>\n",
       "                        <td id=\"T_b9a05d00_171c_11eb_acdf_820f1136b280row3_col0\" class=\"data row3 col0\" >365</td>\n",
       "                        <td id=\"T_b9a05d00_171c_11eb_acdf_820f1136b280row3_col1\" class=\"data row3 col1\" >$3.05</td>\n",
       "                        <td id=\"T_b9a05d00_171c_11eb_acdf_820f1136b280row3_col2\" class=\"data row3 col2\" >$1,114.06</td>\n",
       "                        <td id=\"T_b9a05d00_171c_11eb_acdf_820f1136b280row3_col3\" class=\"data row3 col3\" >$4.32</td>\n",
       "            </tr>\n",
       "            <tr>\n",
       "                        <th id=\"T_b9a05d00_171c_11eb_acdf_820f1136b280level0_row4\" class=\"row_heading level0 row4\" >25-29</th>\n",
       "                        <td id=\"T_b9a05d00_171c_11eb_acdf_820f1136b280row4_col0\" class=\"data row4 col0\" >101</td>\n",
       "                        <td id=\"T_b9a05d00_171c_11eb_acdf_820f1136b280row4_col1\" class=\"data row4 col1\" >$2.90</td>\n",
       "                        <td id=\"T_b9a05d00_171c_11eb_acdf_820f1136b280row4_col2\" class=\"data row4 col2\" >$293.00</td>\n",
       "                        <td id=\"T_b9a05d00_171c_11eb_acdf_820f1136b280row4_col3\" class=\"data row4 col3\" >$3.81</td>\n",
       "            </tr>\n",
       "            <tr>\n",
       "                        <th id=\"T_b9a05d00_171c_11eb_acdf_820f1136b280level0_row5\" class=\"row_heading level0 row5\" >30-34</th>\n",
       "                        <td id=\"T_b9a05d00_171c_11eb_acdf_820f1136b280row5_col0\" class=\"data row5 col0\" >73</td>\n",
       "                        <td id=\"T_b9a05d00_171c_11eb_acdf_820f1136b280row5_col1\" class=\"data row5 col1\" >$2.93</td>\n",
       "                        <td id=\"T_b9a05d00_171c_11eb_acdf_820f1136b280row5_col2\" class=\"data row5 col2\" >$214.00</td>\n",
       "                        <td id=\"T_b9a05d00_171c_11eb_acdf_820f1136b280row5_col3\" class=\"data row5 col3\" >$4.12</td>\n",
       "            </tr>\n",
       "            <tr>\n",
       "                        <th id=\"T_b9a05d00_171c_11eb_acdf_820f1136b280level0_row6\" class=\"row_heading level0 row6\" >35-39</th>\n",
       "                        <td id=\"T_b9a05d00_171c_11eb_acdf_820f1136b280row6_col0\" class=\"data row6 col0\" >41</td>\n",
       "                        <td id=\"T_b9a05d00_171c_11eb_acdf_820f1136b280row6_col1\" class=\"data row6 col1\" >$3.60</td>\n",
       "                        <td id=\"T_b9a05d00_171c_11eb_acdf_820f1136b280row6_col2\" class=\"data row6 col2\" >$147.67</td>\n",
       "                        <td id=\"T_b9a05d00_171c_11eb_acdf_820f1136b280row6_col3\" class=\"data row6 col3\" >$4.76</td>\n",
       "            </tr>\n",
       "            <tr>\n",
       "                        <th id=\"T_b9a05d00_171c_11eb_acdf_820f1136b280level0_row7\" class=\"row_heading level0 row7\" >40+</th>\n",
       "                        <td id=\"T_b9a05d00_171c_11eb_acdf_820f1136b280row7_col0\" class=\"data row7 col0\" >13</td>\n",
       "                        <td id=\"T_b9a05d00_171c_11eb_acdf_820f1136b280row7_col1\" class=\"data row7 col1\" >$2.94</td>\n",
       "                        <td id=\"T_b9a05d00_171c_11eb_acdf_820f1136b280row7_col2\" class=\"data row7 col2\" >$38.24</td>\n",
       "                        <td id=\"T_b9a05d00_171c_11eb_acdf_820f1136b280row7_col3\" class=\"data row7 col3\" >$3.19</td>\n",
       "            </tr>\n",
       "    </tbody></table>"
      ],
      "text/plain": [
       "<pandas.io.formats.style.Styler at 0x7fef3411b820>"
      ]
     },
     "execution_count": 11,
     "metadata": {},
     "output_type": "execute_result"
    }
   ],
   "source": [
    "# Calculate total purchase per age group\n",
    "purchase_count_by_age = age_group['Purchase ID'].count()\n",
    "\n",
    "# Calculate the average purchase price per age group\n",
    "average_purchase_price_age = age_group['Price'].mean()\n",
    "\n",
    "# Calculate the total purchase value per age group\n",
    "total_purchase_per_age_group = age_group['Price'].sum()\n",
    "\n",
    "# Calculate the average purchase total per person by age group\n",
    "average_purchase_per_person_age = total_purchase_per_age_group / age_group_total\n",
    "\n",
    "# Create a dataframe to display the results \n",
    "gender_statistics_df = pd.DataFrame({'Purchase Count': purchase_count_by_age,\n",
    "                                     'Average Purchase Price': average_purchase_price_age,\n",
    "                                     'Total Purchase Value': total_purchase_per_age_group,\n",
    "                                     'Average Purchase Total Per Person': average_purchase_per_person_age\n",
    "                                    })\n",
    "\n",
    "# Format the results as currency\n",
    "gender_statistics_df.style.format({'Average Purchase Price':'${:,.2f}',\n",
    "                                   'Total Purchase Value':'${:,.2f}',\n",
    "                                   'Average Purchase Total Per Person':'${:,.2f}'\n",
    "                                  })"
   ]
  },
  {
   "cell_type": "markdown",
   "metadata": {},
   "source": [
    "## Top Spenders"
   ]
  },
  {
   "cell_type": "markdown",
   "metadata": {},
   "source": [
    "* Identify the the top 5 spenders in the game by total purchase value, then list (in a table):\n",
    "  * SN\n",
    "  * Purchase Count\n",
    "  * Average Purchase Price\n",
    "  * Total Purchase Value"
   ]
  },
  {
   "cell_type": "code",
   "execution_count": 21,
   "metadata": {},
   "outputs": [
    {
     "data": {
      "text/html": [
       "<style  type=\"text/css\" >\n",
       "</style><table id=\"T_aa462cfc_1728_11eb_acdf_820f1136b280\" ><thead>    <tr>        <th class=\"blank level0\" ></th>        <th class=\"col_heading level0 col0\" >Purchase Count</th>        <th class=\"col_heading level0 col1\" >Average Purchase Price</th>        <th class=\"col_heading level0 col2\" >Total Purchase Value</th>    </tr>    <tr>        <th class=\"index_name level0\" >SN</th>        <th class=\"blank\" ></th>        <th class=\"blank\" ></th>        <th class=\"blank\" ></th>    </tr></thead><tbody>\n",
       "                <tr>\n",
       "                        <th id=\"T_aa462cfc_1728_11eb_acdf_820f1136b280level0_row0\" class=\"row_heading level0 row0\" >Lisosia93</th>\n",
       "                        <td id=\"T_aa462cfc_1728_11eb_acdf_820f1136b280row0_col0\" class=\"data row0 col0\" >5</td>\n",
       "                        <td id=\"T_aa462cfc_1728_11eb_acdf_820f1136b280row0_col1\" class=\"data row0 col1\" >$3.79</td>\n",
       "                        <td id=\"T_aa462cfc_1728_11eb_acdf_820f1136b280row0_col2\" class=\"data row0 col2\" >$18.96</td>\n",
       "            </tr>\n",
       "            <tr>\n",
       "                        <th id=\"T_aa462cfc_1728_11eb_acdf_820f1136b280level0_row1\" class=\"row_heading level0 row1\" >Idastidru52</th>\n",
       "                        <td id=\"T_aa462cfc_1728_11eb_acdf_820f1136b280row1_col0\" class=\"data row1 col0\" >4</td>\n",
       "                        <td id=\"T_aa462cfc_1728_11eb_acdf_820f1136b280row1_col1\" class=\"data row1 col1\" >$3.86</td>\n",
       "                        <td id=\"T_aa462cfc_1728_11eb_acdf_820f1136b280row1_col2\" class=\"data row1 col2\" >$15.45</td>\n",
       "            </tr>\n",
       "            <tr>\n",
       "                        <th id=\"T_aa462cfc_1728_11eb_acdf_820f1136b280level0_row2\" class=\"row_heading level0 row2\" >Chamjask73</th>\n",
       "                        <td id=\"T_aa462cfc_1728_11eb_acdf_820f1136b280row2_col0\" class=\"data row2 col0\" >3</td>\n",
       "                        <td id=\"T_aa462cfc_1728_11eb_acdf_820f1136b280row2_col1\" class=\"data row2 col1\" >$4.61</td>\n",
       "                        <td id=\"T_aa462cfc_1728_11eb_acdf_820f1136b280row2_col2\" class=\"data row2 col2\" >$13.83</td>\n",
       "            </tr>\n",
       "            <tr>\n",
       "                        <th id=\"T_aa462cfc_1728_11eb_acdf_820f1136b280level0_row3\" class=\"row_heading level0 row3\" >Iral74</th>\n",
       "                        <td id=\"T_aa462cfc_1728_11eb_acdf_820f1136b280row3_col0\" class=\"data row3 col0\" >4</td>\n",
       "                        <td id=\"T_aa462cfc_1728_11eb_acdf_820f1136b280row3_col1\" class=\"data row3 col1\" >$3.40</td>\n",
       "                        <td id=\"T_aa462cfc_1728_11eb_acdf_820f1136b280row3_col2\" class=\"data row3 col2\" >$13.62</td>\n",
       "            </tr>\n",
       "            <tr>\n",
       "                        <th id=\"T_aa462cfc_1728_11eb_acdf_820f1136b280level0_row4\" class=\"row_heading level0 row4\" >Iskadarya95</th>\n",
       "                        <td id=\"T_aa462cfc_1728_11eb_acdf_820f1136b280row4_col0\" class=\"data row4 col0\" >3</td>\n",
       "                        <td id=\"T_aa462cfc_1728_11eb_acdf_820f1136b280row4_col1\" class=\"data row4 col1\" >$4.37</td>\n",
       "                        <td id=\"T_aa462cfc_1728_11eb_acdf_820f1136b280row4_col2\" class=\"data row4 col2\" >$13.10</td>\n",
       "            </tr>\n",
       "    </tbody></table>"
      ],
      "text/plain": [
       "<pandas.io.formats.style.Styler at 0x7fef33307eb0>"
      ]
     },
     "execution_count": 21,
     "metadata": {},
     "output_type": "execute_result"
    }
   ],
   "source": [
    "# Group by unique identifier\n",
    "spenders_df = heroes_of_pymoli_df.groupby('SN')\n",
    "\n",
    "# Calculate purchase count, average purchase price and total purchase value\n",
    "top_purchase_count = spenders_df['Purchase ID'].count()\n",
    "top_avg_price = spenders_df['Price'].mean()\n",
    "top_total_purchase = spenders_df['Price'].sum()\n",
    "\n",
    "# Create dataframe to display results \n",
    "top_spenders_analysis_df = pd.DataFrame({'Purchase Count': top_purchase_count,\n",
    "                                         'Average Purchase Price': top_avg_price,\n",
    "                                         'Total Purchase Value': top_total_purchase\n",
    "                                        })\n",
    "\n",
    "# Sort in descending order and print top 5 spenders\n",
    "Top_Spenders = top_spenders_analysis_df.sort_values(['Total Purchase Value'], ascending = False).head()\n",
    "\n",
    "#Format the results as currency\n",
    "Top_Spenders.style.format({'Average Purchase Price':'${:,.2f}',\n",
    "                           'Total Purchase Value':'${:,.2f}'\n",
    "                          })"
   ]
  },
  {
   "cell_type": "markdown",
   "metadata": {},
   "source": [
    "## Most Popular Items"
   ]
  },
  {
   "cell_type": "markdown",
   "metadata": {},
   "source": [
    "* Retrieve the Item ID, Item Name, and Item Price columns\n",
    "* Group by Item ID and Item Name. Perform calculations to obtain purchase count, average item price, and total purchase value\n",
    "* Create a summary data frame to hold the results\n",
    "* Sort the purchase count column in descending order\n",
    "* Create, clean and display a summary data frame for the results"
   ]
  },
  {
   "cell_type": "code",
   "execution_count": 22,
   "metadata": {},
   "outputs": [
    {
     "ename": "KeyError",
     "evalue": "'Item Price'",
     "output_type": "error",
     "traceback": [
      "\u001b[0;31m---------------------------------------------------------------------------\u001b[0m",
      "\u001b[0;31mKeyError\u001b[0m                                  Traceback (most recent call last)",
      "\u001b[0;32m<ipython-input-22-1b9f7f27b019>\u001b[0m in \u001b[0;36m<module>\u001b[0;34m\u001b[0m\n\u001b[1;32m      1\u001b[0m \u001b[0;31m#Create dataframe for most popular items\u001b[0m\u001b[0;34m\u001b[0m\u001b[0;34m\u001b[0m\u001b[0;34m\u001b[0m\u001b[0m\n\u001b[0;32m----> 2\u001b[0;31m \u001b[0mitems_df\u001b[0m \u001b[0;34m=\u001b[0m \u001b[0mheroes_of_pymoli_df\u001b[0m\u001b[0;34m.\u001b[0m\u001b[0mgroupby\u001b[0m\u001b[0;34m(\u001b[0m\u001b[0;34m[\u001b[0m\u001b[0;34m'Item ID'\u001b[0m\u001b[0;34m,\u001b[0m \u001b[0;34m'Item Name'\u001b[0m\u001b[0;34m,\u001b[0m \u001b[0;34m'Item Price'\u001b[0m\u001b[0;34m]\u001b[0m\u001b[0;34m)\u001b[0m\u001b[0;34m\u001b[0m\u001b[0;34m\u001b[0m\u001b[0m\n\u001b[0m",
      "\u001b[0;32m/opt/anaconda3/lib/python3.8/site-packages/pandas/core/frame.py\u001b[0m in \u001b[0;36mgroupby\u001b[0;34m(self, by, axis, level, as_index, sort, group_keys, squeeze, observed)\u001b[0m\n\u001b[1;32m   5799\u001b[0m         \u001b[0maxis\u001b[0m \u001b[0;34m=\u001b[0m \u001b[0mself\u001b[0m\u001b[0;34m.\u001b[0m\u001b[0m_get_axis_number\u001b[0m\u001b[0;34m(\u001b[0m\u001b[0maxis\u001b[0m\u001b[0;34m)\u001b[0m\u001b[0;34m\u001b[0m\u001b[0;34m\u001b[0m\u001b[0m\n\u001b[1;32m   5800\u001b[0m \u001b[0;34m\u001b[0m\u001b[0m\n\u001b[0;32m-> 5801\u001b[0;31m         return groupby_generic.DataFrameGroupBy(\n\u001b[0m\u001b[1;32m   5802\u001b[0m             \u001b[0mobj\u001b[0m\u001b[0;34m=\u001b[0m\u001b[0mself\u001b[0m\u001b[0;34m,\u001b[0m\u001b[0;34m\u001b[0m\u001b[0;34m\u001b[0m\u001b[0m\n\u001b[1;32m   5803\u001b[0m             \u001b[0mkeys\u001b[0m\u001b[0;34m=\u001b[0m\u001b[0mby\u001b[0m\u001b[0;34m,\u001b[0m\u001b[0;34m\u001b[0m\u001b[0;34m\u001b[0m\u001b[0m\n",
      "\u001b[0;32m/opt/anaconda3/lib/python3.8/site-packages/pandas/core/groupby/groupby.py\u001b[0m in \u001b[0;36m__init__\u001b[0;34m(self, obj, keys, axis, level, grouper, exclusions, selection, as_index, sort, group_keys, squeeze, observed, mutated)\u001b[0m\n\u001b[1;32m    401\u001b[0m             \u001b[0;32mfrom\u001b[0m \u001b[0mpandas\u001b[0m\u001b[0;34m.\u001b[0m\u001b[0mcore\u001b[0m\u001b[0;34m.\u001b[0m\u001b[0mgroupby\u001b[0m\u001b[0;34m.\u001b[0m\u001b[0mgrouper\u001b[0m \u001b[0;32mimport\u001b[0m \u001b[0mget_grouper\u001b[0m\u001b[0;34m\u001b[0m\u001b[0;34m\u001b[0m\u001b[0m\n\u001b[1;32m    402\u001b[0m \u001b[0;34m\u001b[0m\u001b[0m\n\u001b[0;32m--> 403\u001b[0;31m             grouper, exclusions, obj = get_grouper(\n\u001b[0m\u001b[1;32m    404\u001b[0m                 \u001b[0mobj\u001b[0m\u001b[0;34m,\u001b[0m\u001b[0;34m\u001b[0m\u001b[0;34m\u001b[0m\u001b[0m\n\u001b[1;32m    405\u001b[0m                 \u001b[0mkeys\u001b[0m\u001b[0;34m,\u001b[0m\u001b[0;34m\u001b[0m\u001b[0;34m\u001b[0m\u001b[0m\n",
      "\u001b[0;32m/opt/anaconda3/lib/python3.8/site-packages/pandas/core/groupby/grouper.py\u001b[0m in \u001b[0;36mget_grouper\u001b[0;34m(obj, key, axis, level, sort, observed, mutated, validate)\u001b[0m\n\u001b[1;32m    598\u001b[0m                 \u001b[0min_axis\u001b[0m\u001b[0;34m,\u001b[0m \u001b[0mname\u001b[0m\u001b[0;34m,\u001b[0m \u001b[0mlevel\u001b[0m\u001b[0;34m,\u001b[0m \u001b[0mgpr\u001b[0m \u001b[0;34m=\u001b[0m \u001b[0;32mFalse\u001b[0m\u001b[0;34m,\u001b[0m \u001b[0;32mNone\u001b[0m\u001b[0;34m,\u001b[0m \u001b[0mgpr\u001b[0m\u001b[0;34m,\u001b[0m \u001b[0;32mNone\u001b[0m\u001b[0;34m\u001b[0m\u001b[0;34m\u001b[0m\u001b[0m\n\u001b[1;32m    599\u001b[0m             \u001b[0;32melse\u001b[0m\u001b[0;34m:\u001b[0m\u001b[0;34m\u001b[0m\u001b[0;34m\u001b[0m\u001b[0m\n\u001b[0;32m--> 600\u001b[0;31m                 \u001b[0;32mraise\u001b[0m \u001b[0mKeyError\u001b[0m\u001b[0;34m(\u001b[0m\u001b[0mgpr\u001b[0m\u001b[0;34m)\u001b[0m\u001b[0;34m\u001b[0m\u001b[0;34m\u001b[0m\u001b[0m\n\u001b[0m\u001b[1;32m    601\u001b[0m         \u001b[0;32melif\u001b[0m \u001b[0misinstance\u001b[0m\u001b[0;34m(\u001b[0m\u001b[0mgpr\u001b[0m\u001b[0;34m,\u001b[0m \u001b[0mGrouper\u001b[0m\u001b[0;34m)\u001b[0m \u001b[0;32mand\u001b[0m \u001b[0mgpr\u001b[0m\u001b[0;34m.\u001b[0m\u001b[0mkey\u001b[0m \u001b[0;32mis\u001b[0m \u001b[0;32mnot\u001b[0m \u001b[0;32mNone\u001b[0m\u001b[0;34m:\u001b[0m\u001b[0;34m\u001b[0m\u001b[0;34m\u001b[0m\u001b[0m\n\u001b[1;32m    602\u001b[0m             \u001b[0;31m# Add key to exclusions\u001b[0m\u001b[0;34m\u001b[0m\u001b[0;34m\u001b[0m\u001b[0;34m\u001b[0m\u001b[0m\n",
      "\u001b[0;31mKeyError\u001b[0m: 'Item Price'"
     ]
    }
   ],
   "source": [
    "#Create dataframe for most popular items\n",
    "items_df = heroes_of_pymoli_df.groupby(['Item ID', 'Item Name', 'Price'])"
   ]
  },
  {
   "cell_type": "markdown",
   "metadata": {},
   "source": [
    "## Most Profitable Items"
   ]
  },
  {
   "cell_type": "markdown",
   "metadata": {},
   "source": [
    "* Sort the above table by total purchase value in descending order\n",
    "\n",
    "\n",
    "* Optional: give the displayed data cleaner formatting\n",
    "\n",
    "\n",
    "* Display a preview of the data frame\n",
    "\n"
   ]
  },
  {
   "cell_type": "code",
   "execution_count": null,
   "metadata": {
    "scrolled": true
   },
   "outputs": [],
   "source": []
  }
 ],
 "metadata": {
  "anaconda-cloud": {},
  "kernel_info": {
   "name": "python3"
  },
  "kernelspec": {
   "display_name": "Python 3",
   "language": "python",
   "name": "python3"
  },
  "language_info": {
   "codemirror_mode": {
    "name": "ipython",
    "version": 3
   },
   "file_extension": ".py",
   "mimetype": "text/x-python",
   "name": "python",
   "nbconvert_exporter": "python",
   "pygments_lexer": "ipython3",
   "version": "3.8.3"
  },
  "latex_envs": {
   "LaTeX_envs_menu_present": true,
   "autoclose": false,
   "autocomplete": true,
   "bibliofile": "biblio.bib",
   "cite_by": "apalike",
   "current_citInitial": 1,
   "eqLabelWithNumbers": true,
   "eqNumInitial": 1,
   "hotkeys": {
    "equation": "Ctrl-E",
    "itemize": "Ctrl-I"
   },
   "labels_anchors": false,
   "latex_user_defs": false,
   "report_style_numbering": false,
   "user_envs_cfg": false
  },
  "nteract": {
   "version": "0.2.0"
  }
 },
 "nbformat": 4,
 "nbformat_minor": 2
}
